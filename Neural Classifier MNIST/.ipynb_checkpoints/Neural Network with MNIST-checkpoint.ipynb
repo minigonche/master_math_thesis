{
 "cells": [
  {
   "cell_type": "markdown",
   "metadata": {},
   "source": [
    "# Neural Classifier\n",
    "\n",
    "This notebook shows an expample of a neural network classifier applied to MNIST data. This notebook was written after taking the online course cs231 offered at Stanford University and its objective is test ones familiarity with both **Tensor FLow** and the **MNIST** database."
   ]
  },
  {
   "cell_type": "markdown",
   "metadata": {},
   "source": [
    "## MNIST\n",
    "The following section shows how to import, manipulate and show elements of the MNIST data base. All the imports are done using **python-mnist 0.3**. For more details on this library please check: *https://pypi.python.org/pypi/python-mnist/*"
   ]
  },
  {
   "cell_type": "code",
   "execution_count": 4,
   "metadata": {
    "collapsed": true
   },
   "outputs": [],
   "source": [
    "#Imports and a little bit of setup\n",
    "from __future__ import print_function\n",
    "import numpy as np\n",
    "import matplotlib.pyplot as plt\n",
    "from mnist import MNIST\n",
    "#import tensorflow as tf\n",
    "import math\n",
    "\n",
    "#A little bit of matplotlib magic so that the images can be \n",
    "#showed on the IPython notebook\n",
    "%matplotlib inline\n",
    "plt.rcParams['figure.figsize'] = (10.0, 8.0) # set default size of plots\n",
    "plt.rcParams['image.interpolation'] = 'nearest'\n",
    "plt.rcParams['image.cmap'] = 'gray'\n",
    "\n",
    "#Small function that helps displays images\n",
    "def imshow_noax(img, normalize=True):\n",
    "    \"\"\" Tiny helper to show images as uint8 and remove axis labels \"\"\"\n",
    "    if normalize:\n",
    "        img_max, img_min = np.max(img), np.min(img)\n",
    "        img = 255.0 * (img - img_min) / (img_max - img_min)\n",
    "    plt.imshow(img.astype('uint8'))\n",
    "    plt.gca().axis('off')"
   ]
  },
  {
   "cell_type": "markdown",
   "metadata": {},
   "source": [
    "### MNIST data\n",
    "The following cell imports the data. The data base consists of 60,000 images for training and 10,000 for testing. Each image corresponds to a list of 784 of values between 0 and 255, representing the gray value of the pixel (where 0 equals black and 255 equals white). In turn, each image is of size 28 by 28 pixels in black and white."
   ]
  },
  {
   "cell_type": "code",
   "execution_count": 2,
   "metadata": {
    "collapsed": true
   },
   "outputs": [],
   "source": [
    "#Imports the data and converts it to numpy arrays\n",
    "mndata = MNIST('../python-mnist/data')\n",
    "X_train, y_train = mndata.load_training()\n",
    "X_test, y_test = mndata.load_testing()\n",
    "\n",
    "#converts to numpy array\n",
    "X_train = np.array(X_train)\n",
    "X_test = np.array(X_test)\n",
    "y_train = np.array(y_train)\n",
    "y_test = np.array(y_test)\n",
    "\n",
    "#Train size and dimension size\n",
    "N, D = X_train.shape\n"
   ]
  },
  {
   "cell_type": "markdown",
   "metadata": {},
   "source": [
    "### Some Examples\n",
    "The next cell shows some examples from the data base of digits"
   ]
  },
  {
   "cell_type": "code",
   "execution_count": 13,
   "metadata": {},
   "outputs": [
    {
     "data": {
      "image/png": "[encoded data removed]",
      "text/plain": [
       "<matplotlib.figure.Figure at 0x110c59748>"
      ]
     },
     "metadata": {},
     "output_type": "display_data"
    }
   ],
   "source": [
    "sel = [1592,4878]\n",
    "\n",
    "n_row = 1\n",
    "n_col = 1\n",
    "for i in range(n_row*n_col):\n",
    "    ran = np.random.randint(N)\n",
    "    ran = 4878\n",
    "    plt.subplot(n_row, n_col, i+1)\n",
    "    imshow_noax(X_test[ran].reshape(28,28), normalize=False)\n",
    "    plt.title(str(y_test[ran]))\n",
    "plt.show()"
   ]
  },
  {
   "cell_type": "code",
   "execution_count": 135,
   "metadata": {},
   "outputs": [
    {
     "data": {
      "image/png": "[encoded data removed]",
      "text/plain": [
       "<matplotlib.figure.Figure at 0x10fa526a0>"
      ]
     },
     "metadata": {},
     "output_type": "display_data"
    }
   ],
   "source": [
    "n_row = 3\n",
    "n_col = 5\n",
    "for i in range(n_row*n_col):\n",
    "    ran = np.random.randint(N)\n",
    "    plt.subplot(n_row, n_col, i+1)\n",
    "    imshow_noax(X_train[ran].reshape(28,28), normalize=False)\n",
    "    plt.title(str(y_train[ran]))\n",
    "plt.show()"
   ]
  },
  {
   "cell_type": "markdown",
   "metadata": {},
   "source": [
    "## Neural Netwok\n",
    "We will now proceed with the creation, trianing and testing of a neural network calssifier. To do this we will use exclusively the **Tensor Flow** library. For more details on this library please go to: *https://www.tensorflow.org/*.\n"
   ]
  },
  {
   "cell_type": "markdown",
   "metadata": {},
   "source": [
    "### Architecture\n",
    "The architecture of this neural netwok will be as follows:\n",
    "\n",
    "* 4 Hidden layers of a 100 neurons each, with Bathnorm, Relu activation and dropout. Specifically, each of this four layers will have:\n",
    "    * Affine layer: Linear classifier of dimension D x 100, with biased.\n",
    "    * BatchNorm layer: Layer that normalizaes the batch input\n",
    "    * Dropout layer: dropout layer that drops 50% of its values\n",
    "    * Activation layer: Activation layer using the Relu function.\n",
    "* Classification layer that outputs the 10 categories of the MNIST data\n",
    "* Loss function will be SoftMax\n",
    "\n",
    "We will optimize using RMSprop gradient descent (proposed by Geoff Hinton in Lecture 6e of his Coursera Class: *http://www.cs.toronto.edu/~tijmen/csc321/slides/lecture_slides_lec6.pdf*)\n",
    "\n",
    "The following cell delcares the architecture:"
   ]
  },
  {
   "cell_type": "code",
   "execution_count": 136,
   "metadata": {
    "collapsed": true
   },
   "outputs": [],
   "source": [
    "# Clears old variables (just in case)\n",
    "tf.reset_default_graph()\n",
    "\n",
    "# Define our inputs\n",
    "#The dimension None lets us train by batches of data\n",
    "X = tf.placeholder(tf.float32, [None, 784]) \n",
    "y = tf.placeholder(tf.int64, [None])\n",
    "is_training = tf.placeholder(tf.bool)\n",
    "\n",
    "# define model\n",
    "def mnist_model(X, y, is_training,hidden_layers = 4, num_neurons = 100):\n",
    "    \"\"\"\n",
    "    A function that returns the inital node of the neural network graph.\n",
    "    \n",
    "    Input:\n",
    "    - x: Input data of shape (N, D)\n",
    "    - y: Input data labels (N,)\n",
    "    - is_training: a boolean indicating if we are testing or trianing the graph\n",
    "    - hidden_layers: The number of hidden layers the net will have (must be > 0)\n",
    "    - num_neurons: the number of neurons the layers will have\n",
    "\n",
    "    Returns:\n",
    "    The leading tensor flow node\n",
    "    \"\"\"\n",
    "    prob = 0.5\n",
    "    keep_prob = tf.constant(prob)\n",
    "    N, D = X.shape\n",
    "    C = 10\n",
    "    #------------------------------\n",
    "    #---------First Layer----------\n",
    "    #------------------------------\n",
    "    #Affine layer\n",
    "    with tf.name_scope(\"HiddenLayer0\"):\n",
    "        W = tf.get_variable(\"W0\", shape=[D, num_neurons])\n",
    "        b = tf.get_variable(\"b0\", shape=[num_neurons])\n",
    "        current_layer = tf.matmul(X, W) + b\n",
    "    \n",
    "    #batchNorm\n",
    "    with tf.name_scope(\"BatchNorm0\"):\n",
    "        current_layer = tf.layers.batch_normalization(current_layer, \n",
    "                                                      axis=1, \n",
    "                                                      training=is_training)\n",
    "         \n",
    "        \n",
    "    #Dropout layer\n",
    "    with tf.name_scope(\"Dropout0\"):\n",
    "        current_layer = tf.nn.dropout(current_layer, keep_prob = keep_prob )\n",
    "    \n",
    "    #Relu activation layer\n",
    "    with tf.name_scope(\"ReluLayer0\"):\n",
    "        current_layer = tf.nn.relu(current_layer)\n",
    "    \n",
    "    \n",
    "    \n",
    "    #------------------------------\n",
    "    #--------Hidden Layer----------\n",
    "    #------------------------------\n",
    "    for i in range(hidden_layers):\n",
    "        l = i+1\n",
    "        #Affine layer\n",
    "        with tf.name_scope(\"HiddenLayer\" + str(l)):\n",
    "            W = tf.get_variable(\"W\" + str(l), shape=[num_neurons, num_neurons])\n",
    "            b = tf.get_variable(\"b\" + str(l), shape=[num_neurons])\n",
    "            current_layer = tf.matmul(current_layer, W) + b\n",
    "        \n",
    "        #batchNorm\n",
    "        with tf.name_scope(\"BatchNorm\" + str(l)):\n",
    "            current_layer = tf.layers.batch_normalization(current_layer, \n",
    "                                                          axis=1, \n",
    "                                                          training=is_training)\n",
    "        \n",
    "        #Dropout layer\n",
    "        with tf.name_scope(\"Dropout\" + str(l)):\n",
    "            current_layer = tf.nn.dropout(current_layer, keep_prob = keep_prob )\n",
    "\n",
    "        #Relu activation layer\n",
    "        with tf.name_scope(\"ReluLayer\" + str(l)):\n",
    "            current_layer = tf.nn.relu(current_layer)\n",
    "    \n",
    "    \n",
    "    #------------------------------\n",
    "    #--------Last Layer----------\n",
    "    #------------------------------\n",
    "    with tf.name_scope(\"LastLayer\"):\n",
    "        W = tf.get_variable(\"W\" + str(hidden_layers + 1), shape=[num_neurons, C])\n",
    "        b = tf.get_variable(\"b\" + str(hidden_layers + 1), shape=[C])\n",
    "        current_layer = tf.matmul(current_layer, W) + b\n",
    "        \n",
    "    return current_layer\n",
    "    \n",
    "\n",
    "#Our prediction labels    \n",
    "y_out = mnist_model(X,y,is_training)\n",
    "\n",
    "#Loss function\n",
    "mean_loss = tf.reduce_mean(\n",
    "    tf.nn.softmax_cross_entropy_with_logits(labels=tf.one_hot(y, 10), \n",
    "                                                                   logits=y_out))\n",
    "\n",
    "#Declares the optimizaer\n",
    "optimizer = tf.train.RMSPropOptimizer(1e-3)\n",
    "\n",
    "# batch normalization in tensorflow requires this extra dependency\n",
    "extra_update_ops = tf.get_collection(tf.GraphKeys.UPDATE_OPS)\n",
    "with tf.control_dependencies(extra_update_ops):\n",
    "    train_step = optimizer.minimize(mean_loss)\n",
    "\n",
    "\n"
   ]
  },
  {
   "cell_type": "markdown",
   "metadata": {},
   "source": [
    "### Training the Model\n",
    "The following cells provides a method that trains the model and outputs its progress, and trains the previous model with 150 batch iterations (Epochs)\n",
    "\n"
   ]
  },
  {
   "cell_type": "code",
   "execution_count": 139,
   "metadata": {
    "collapsed": true
   },
   "outputs": [],
   "source": [
    "#Function that runs the model and outputs the loss function plot\n",
    "\n",
    "def run_model(session, predict, loss_val, Xd, yd,\n",
    "              epochs=1, batch_size=64, print_every=100,\n",
    "              training=None, plot_losses=False, print_every_epoch = 1):\n",
    "    \n",
    "    # have tensorflow compute accuracy\n",
    "    correct_prediction = tf.equal(tf.argmax(predict,1), y)\n",
    "    accuracy = tf.reduce_mean(tf.cast(correct_prediction, tf.float32))\n",
    "    \n",
    "    # shuffle indicies\n",
    "    train_indicies = np.arange(Xd.shape[0])\n",
    "    np.random.shuffle(train_indicies)\n",
    "\n",
    "    training_now = training is not None\n",
    "    \n",
    "    # setting up variables we want to compute (and optimizing)\n",
    "    # if we have a training function, add that to things we compute\n",
    "    variables = [mean_loss,correct_prediction,accuracy]\n",
    "    if training_now:\n",
    "        variables[-1] = training\n",
    "    \n",
    "    global_losses = []\n",
    "    # counter \n",
    "    iter_cnt = 0\n",
    "    for e in range(epochs):\n",
    "        # keep track of losses and accuracy\n",
    "        losses = []\n",
    "        correct = 0\n",
    "        # make sure we iterate over the dataset once\n",
    "        for i in range(int(math.ceil(Xd.shape[0]/batch_size))):\n",
    "            # generate indicies for the batch\n",
    "            start_idx = (i*batch_size)%Xd.shape[0]\n",
    "            idx = train_indicies[start_idx:start_idx+batch_size]\n",
    "            \n",
    "            # create a feed dictionary for this batch\n",
    "            feed_dict = {X: Xd[idx,:],\n",
    "                         y: yd[idx],\n",
    "                         is_training: training_now }\n",
    "            # get batch size\n",
    "            actual_batch_size = yd[idx].shape[0]\n",
    "            \n",
    "            # have tensorflow compute loss and correct predictions\n",
    "            # and (if given) perform a training step\n",
    "            loss, corr, _ = session.run(variables,feed_dict=feed_dict)\n",
    "            \n",
    "            # aggregate performance stats\n",
    "            losses.append(loss*actual_batch_size)\n",
    "            correct += np.sum(corr)\n",
    "            \n",
    "            # print every now and then\n",
    "            if training_now and ((iter_cnt +1) % print_every) == 0:\n",
    "                print(\"\"\"Iteration {0}: with minibatch training loss = {1:.3g} \n",
    "                      and accuracy of {2:.2g}\"\"\"\\\n",
    "                      .format(iter_cnt,loss,np.sum(corr)/actual_batch_size))\n",
    "            iter_cnt += 1\n",
    "            \n",
    "        total_correct = correct/Xd.shape[0]\n",
    "        total_loss = np.sum(losses)/Xd.shape[0]\n",
    "        \n",
    "        if (e  % print_every_epoch) == 0:\n",
    "            print(\"Epoch {2}, Overall loss = {0:.3g} and accuracy of {1:.3g}\"\\\n",
    "                  .format(total_loss,total_correct,e))\n",
    "        \n",
    "        #adds to global losses for plotting\n",
    "        global_losses = global_losses + [np.mean(losses)]\n",
    "        \n",
    "    if plot_losses:\n",
    "        plt.plot(global_losses)\n",
    "        plt.grid(True)\n",
    "        plt.title('Overall Loss')\n",
    "        plt.xlabel('epoch number')\n",
    "        plt.ylabel('mean loss')\n",
    "        plt.show()\n",
    "            \n",
    "    return total_loss,total_correct"
   ]
  },
  {
   "cell_type": "code",
   "execution_count": 140,
   "metadata": {},
   "outputs": [
    {
     "name": "stdout",
     "output_type": "stream",
     "text": [
      "Iteration 0: with minibatch training loss = 3.12 and accuracy of 0.12\n",
      "Epoch 9, Overall loss = 0.406 and accuracy of 0.9\n",
      "Epoch 19, Overall loss = 0.35 and accuracy of 0.915\n",
      "Epoch 29, Overall loss = 0.323 and accuracy of 0.921\n",
      "Epoch 39, Overall loss = 0.303 and accuracy of 0.927\n",
      "Epoch 49, Overall loss = 0.3 and accuracy of 0.928\n",
      "Epoch 59, Overall loss = 0.279 and accuracy of 0.933\n",
      "Epoch 69, Overall loss = 0.278 and accuracy of 0.932\n",
      "Epoch 79, Overall loss = 0.266 and accuracy of 0.935\n",
      "Epoch 89, Overall loss = 0.259 and accuracy of 0.937\n",
      "Epoch 99, Overall loss = 0.258 and accuracy of 0.937\n",
      "Epoch 109, Overall loss = 0.251 and accuracy of 0.939\n",
      "Epoch 119, Overall loss = 0.253 and accuracy of 0.939\n",
      "Epoch 129, Overall loss = 0.247 and accuracy of 0.94\n",
      "Epoch 139, Overall loss = 0.25 and accuracy of 0.939\n",
      "Epoch 149, Overall loss = 0.243 and accuracy of 0.94\n"
     ]
    },
    {
     "data": {
      "image/png": "[encoded data removed]",
      "text/plain": [
       "<matplotlib.figure.Figure at 0x11b518cf8>"
      ]
     },
     "metadata": {},
     "output_type": "display_data"
    }
   ],
   "source": [
    "#Runs the model and outputs its progress\n",
    "\n",
    "#Starts the session\n",
    "sess = tf.Session()\n",
    "sess.run(tf.global_variables_initializer())\n",
    "\n",
    "#Start Run\n",
    "result_val = run_model(session = sess, \n",
    "                  predict = y_out,\n",
    "                  loss_val = mean_loss, \n",
    "                  Xd = X_train, \n",
    "                  yd = y_train,\n",
    "                  epochs = 150, \n",
    "                  batch_size = 60, \n",
    "                  print_every = math.inf,\n",
    "                  training = train_step, \n",
    "                  plot_losses = True,\n",
    "                  print_every_epoch = 10)"
   ]
  },
  {
   "cell_type": "markdown",
   "metadata": {},
   "source": [
    "### Testing\n",
    "Now that we have trained the model, we test it to see what we get."
   ]
  },
  {
   "cell_type": "code",
   "execution_count": 141,
   "metadata": {},
   "outputs": [
    {
     "name": "stdout",
     "output_type": "stream",
     "text": [
      "Model acuracy over the test set: 93.87%\n"
     ]
    }
   ],
   "source": [
    "result_test = run_model(sess,y_out,mean_loss,X_test,y_test,1,64, print_every_epoch = math.inf)\n",
    "\n",
    "print(\"Model acuracy over the test set: {0:.2f}%\".format(result_test[1]*100))"
   ]
  },
  {
   "cell_type": "markdown",
   "metadata": {},
   "source": [
    "The model was able to correcly predict the label of the given image with an accuracy of **93.87%**"
   ]
  }
 ],
 "metadata": {
  "kernelspec": {
   "display_name": "Python 3 (Tesis Mat)",
   "language": "python",
   "name": "python3"
  },
  "language_info": {
   "codemirror_mode": {
    "name": "ipython",
    "version": 3
   },
   "file_extension": ".py",
   "mimetype": "text/x-python",
   "name": "python",
   "nbconvert_exporter": "python",
   "pygments_lexer": "ipython3",
   "version": "3.6.1"
  }
 },
 "nbformat": 4,
 "nbformat_minor": 1
}
